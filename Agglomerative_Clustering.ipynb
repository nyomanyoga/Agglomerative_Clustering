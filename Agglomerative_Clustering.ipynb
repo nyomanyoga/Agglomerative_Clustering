{
  "nbformat": 4,
  "nbformat_minor": 0,
  "metadata": {
    "colab": {
      "name": "Exasens",
      "provenance": [],
      "collapsed_sections": []
    },
    "kernelspec": {
      "name": "python3",
      "display_name": "Python 3"
    }
  },
  "cells": [
    {
      "cell_type": "code",
      "metadata": {
        "id": "PxrhepqqdDBk"
      },
      "source": [
        "import pandas as pd\n",
        "from sklearn import preprocessing\n",
        "from sklearn.preprocessing import LabelEncoder\n",
        "import matplotlib.pyplot as plt\n",
        "from sklearn.cluster import AgglomerativeClustering\n",
        "import scipy.cluster.hierarchy as sch"
      ],
      "execution_count": 21,
      "outputs": []
    },
    {
      "cell_type": "code",
      "metadata": {
        "colab": {
          "base_uri": "https://localhost:8080/",
          "height": 206
        },
        "id": "pNvoIsFedxiY",
        "outputId": "6d44f3da-9b03-4e1d-d97c-d72ae3c9be4e"
      },
      "source": [
        "# load data apartemen\n",
        "url = 'https://raw.githubusercontent.com/nyomanyoga/Damin/master/Exasens.csv'\n",
        "data = pd.read_csv(url)\n",
        "data.head()"
      ],
      "execution_count": 22,
      "outputs": [
        {
          "output_type": "execute_result",
          "data": {
            "text/html": [
              "<div>\n",
              "<style scoped>\n",
              "    .dataframe tbody tr th:only-of-type {\n",
              "        vertical-align: middle;\n",
              "    }\n",
              "\n",
              "    .dataframe tbody tr th {\n",
              "        vertical-align: top;\n",
              "    }\n",
              "\n",
              "    .dataframe thead th {\n",
              "        text-align: right;\n",
              "    }\n",
              "</style>\n",
              "<table border=\"1\" class=\"dataframe\">\n",
              "  <thead>\n",
              "    <tr style=\"text-align: right;\">\n",
              "      <th></th>\n",
              "      <th>Diagnosis</th>\n",
              "      <th>ID</th>\n",
              "      <th>Imaginary Part Min</th>\n",
              "      <th>Avg</th>\n",
              "      <th>Real Part Min</th>\n",
              "      <th>Avg.1</th>\n",
              "      <th>Gender</th>\n",
              "      <th>Age</th>\n",
              "      <th>Smoking</th>\n",
              "    </tr>\n",
              "  </thead>\n",
              "  <tbody>\n",
              "    <tr>\n",
              "      <th>0</th>\n",
              "      <td>COPD</td>\n",
              "      <td>301-4</td>\n",
              "      <td>-320.61</td>\n",
              "      <td>-300.563531</td>\n",
              "      <td>-495.26</td>\n",
              "      <td>-464.171991</td>\n",
              "      <td>1</td>\n",
              "      <td>77</td>\n",
              "      <td>2</td>\n",
              "    </tr>\n",
              "    <tr>\n",
              "      <th>1</th>\n",
              "      <td>COPD</td>\n",
              "      <td>302-3</td>\n",
              "      <td>-325.39</td>\n",
              "      <td>-314.750360</td>\n",
              "      <td>-473.73</td>\n",
              "      <td>-469.263140</td>\n",
              "      <td>0</td>\n",
              "      <td>72</td>\n",
              "      <td>2</td>\n",
              "    </tr>\n",
              "    <tr>\n",
              "      <th>2</th>\n",
              "      <td>COPD</td>\n",
              "      <td>303-3</td>\n",
              "      <td>-323.00</td>\n",
              "      <td>-317.436056</td>\n",
              "      <td>-476.12</td>\n",
              "      <td>-471.897667</td>\n",
              "      <td>1</td>\n",
              "      <td>73</td>\n",
              "      <td>3</td>\n",
              "    </tr>\n",
              "    <tr>\n",
              "      <th>3</th>\n",
              "      <td>COPD</td>\n",
              "      <td>304-4</td>\n",
              "      <td>-327.78</td>\n",
              "      <td>-317.399670</td>\n",
              "      <td>-473.73</td>\n",
              "      <td>-468.856388</td>\n",
              "      <td>1</td>\n",
              "      <td>76</td>\n",
              "      <td>2</td>\n",
              "    </tr>\n",
              "    <tr>\n",
              "      <th>4</th>\n",
              "      <td>COPD</td>\n",
              "      <td>305-4</td>\n",
              "      <td>-325.39</td>\n",
              "      <td>-316.155785</td>\n",
              "      <td>-478.52</td>\n",
              "      <td>-472.869783</td>\n",
              "      <td>0</td>\n",
              "      <td>65</td>\n",
              "      <td>2</td>\n",
              "    </tr>\n",
              "  </tbody>\n",
              "</table>\n",
              "</div>"
            ],
            "text/plain": [
              "  Diagnosis     ID  Imaginary Part Min  ...  Gender  Age  Smoking\n",
              "0      COPD  301-4             -320.61  ...       1   77        2\n",
              "1      COPD  302-3             -325.39  ...       0   72        2\n",
              "2      COPD  303-3             -323.00  ...       1   73        3\n",
              "3      COPD  304-4             -327.78  ...       1   76        2\n",
              "4      COPD  305-4             -325.39  ...       0   65        2\n",
              "\n",
              "[5 rows x 9 columns]"
            ]
          },
          "metadata": {
            "tags": []
          },
          "execution_count": 22
        }
      ]
    },
    {
      "cell_type": "code",
      "metadata": {
        "colab": {
          "base_uri": "https://localhost:8080/"
        },
        "id": "j_XAd8WKeFah",
        "outputId": "8f7b8d9d-3041-4eab-a79b-1cf04439dcf4"
      },
      "source": [
        "# Mengisi missing value\n",
        "data.isnull().sum()"
      ],
      "execution_count": 23,
      "outputs": [
        {
          "output_type": "execute_result",
          "data": {
            "text/plain": [
              "Diagnosis               0\n",
              "ID                      0\n",
              "Imaginary Part Min    299\n",
              "Avg                   299\n",
              "Real Part Min         299\n",
              "Avg.1                 299\n",
              "Gender                  0\n",
              "Age                     0\n",
              "Smoking                 0\n",
              "dtype: int64"
            ]
          },
          "metadata": {
            "tags": []
          },
          "execution_count": 23
        }
      ]
    },
    {
      "cell_type": "code",
      "metadata": {
        "colab": {
          "base_uri": "https://localhost:8080/",
          "height": 269
        },
        "id": "NHn8shtNUEl6",
        "outputId": "bc1b9211-5ea9-4a94-a323-9a68e76fec28"
      },
      "source": [
        "# Mengisi missing value\n",
        "data = data.fillna(data.mean())\n",
        "\n",
        "data_asli=data\n",
        "\n",
        "# mengecek corelasi data\n",
        "data.corr()"
      ],
      "execution_count": 24,
      "outputs": [
        {
          "output_type": "execute_result",
          "data": {
            "text/html": [
              "<div>\n",
              "<style scoped>\n",
              "    .dataframe tbody tr th:only-of-type {\n",
              "        vertical-align: middle;\n",
              "    }\n",
              "\n",
              "    .dataframe tbody tr th {\n",
              "        vertical-align: top;\n",
              "    }\n",
              "\n",
              "    .dataframe thead th {\n",
              "        text-align: right;\n",
              "    }\n",
              "</style>\n",
              "<table border=\"1\" class=\"dataframe\">\n",
              "  <thead>\n",
              "    <tr style=\"text-align: right;\">\n",
              "      <th></th>\n",
              "      <th>Imaginary Part Min</th>\n",
              "      <th>Avg</th>\n",
              "      <th>Real Part Min</th>\n",
              "      <th>Avg.1</th>\n",
              "      <th>Gender</th>\n",
              "      <th>Age</th>\n",
              "      <th>Smoking</th>\n",
              "    </tr>\n",
              "  </thead>\n",
              "  <tbody>\n",
              "    <tr>\n",
              "      <th>Imaginary Part Min</th>\n",
              "      <td>1.000000</td>\n",
              "      <td>0.980922</td>\n",
              "      <td>0.438120</td>\n",
              "      <td>0.419530</td>\n",
              "      <td>-0.020216</td>\n",
              "      <td>0.058051</td>\n",
              "      <td>-0.038053</td>\n",
              "    </tr>\n",
              "    <tr>\n",
              "      <th>Avg</th>\n",
              "      <td>0.980922</td>\n",
              "      <td>1.000000</td>\n",
              "      <td>0.375846</td>\n",
              "      <td>0.421075</td>\n",
              "      <td>-0.015668</td>\n",
              "      <td>0.062543</td>\n",
              "      <td>-0.039717</td>\n",
              "    </tr>\n",
              "    <tr>\n",
              "      <th>Real Part Min</th>\n",
              "      <td>0.438120</td>\n",
              "      <td>0.375846</td>\n",
              "      <td>1.000000</td>\n",
              "      <td>0.878389</td>\n",
              "      <td>-0.070783</td>\n",
              "      <td>0.004790</td>\n",
              "      <td>0.021070</td>\n",
              "    </tr>\n",
              "    <tr>\n",
              "      <th>Avg.1</th>\n",
              "      <td>0.419530</td>\n",
              "      <td>0.421075</td>\n",
              "      <td>0.878389</td>\n",
              "      <td>1.000000</td>\n",
              "      <td>-0.051241</td>\n",
              "      <td>-0.002184</td>\n",
              "      <td>0.033497</td>\n",
              "    </tr>\n",
              "    <tr>\n",
              "      <th>Gender</th>\n",
              "      <td>-0.020216</td>\n",
              "      <td>-0.015668</td>\n",
              "      <td>-0.070783</td>\n",
              "      <td>-0.051241</td>\n",
              "      <td>1.000000</td>\n",
              "      <td>0.230465</td>\n",
              "      <td>0.072074</td>\n",
              "    </tr>\n",
              "    <tr>\n",
              "      <th>Age</th>\n",
              "      <td>0.058051</td>\n",
              "      <td>0.062543</td>\n",
              "      <td>0.004790</td>\n",
              "      <td>-0.002184</td>\n",
              "      <td>0.230465</td>\n",
              "      <td>1.000000</td>\n",
              "      <td>0.135352</td>\n",
              "    </tr>\n",
              "    <tr>\n",
              "      <th>Smoking</th>\n",
              "      <td>-0.038053</td>\n",
              "      <td>-0.039717</td>\n",
              "      <td>0.021070</td>\n",
              "      <td>0.033497</td>\n",
              "      <td>0.072074</td>\n",
              "      <td>0.135352</td>\n",
              "      <td>1.000000</td>\n",
              "    </tr>\n",
              "  </tbody>\n",
              "</table>\n",
              "</div>"
            ],
            "text/plain": [
              "                    Imaginary Part Min       Avg  ...       Age   Smoking\n",
              "Imaginary Part Min            1.000000  0.980922  ...  0.058051 -0.038053\n",
              "Avg                           0.980922  1.000000  ...  0.062543 -0.039717\n",
              "Real Part Min                 0.438120  0.375846  ...  0.004790  0.021070\n",
              "Avg.1                         0.419530  0.421075  ... -0.002184  0.033497\n",
              "Gender                       -0.020216 -0.015668  ...  0.230465  0.072074\n",
              "Age                           0.058051  0.062543  ...  1.000000  0.135352\n",
              "Smoking                      -0.038053 -0.039717  ...  0.135352  1.000000\n",
              "\n",
              "[7 rows x 7 columns]"
            ]
          },
          "metadata": {
            "tags": []
          },
          "execution_count": 24
        }
      ]
    },
    {
      "cell_type": "code",
      "metadata": {
        "id": "Og541_QoeLHd"
      },
      "source": [
        "data_cluster = data[['Imaginary Part Min', 'Avg']]\n",
        "\n",
        "# normalisasi data with minmax\n",
        "minmax=preprocessing.MinMaxScaler().fit_transform(data_cluster)\n",
        "data=pd.DataFrame(minmax, index=data_cluster.index, columns=data_cluster.columns)"
      ],
      "execution_count": 25,
      "outputs": []
    },
    {
      "cell_type": "code",
      "metadata": {
        "id": "URy5YjytnKEm"
      },
      "source": [
        "X = data_cluster.values"
      ],
      "execution_count": 26,
      "outputs": []
    },
    {
      "cell_type": "code",
      "metadata": {
        "colab": {
          "base_uri": "https://localhost:8080/",
          "height": 281
        },
        "id": "uYuF2Yv5qgnp",
        "outputId": "6a08a8f5-6571-4d53-d6c1-ed05ffe86e1c"
      },
      "source": [
        "dendrogram = sch.dendrogram(sch.linkage(X, method = 'ward'))\n",
        "plt.title('Dendrogram')\n",
        "plt.show()"
      ],
      "execution_count": 27,
      "outputs": [
        {
          "output_type": "display_data",
          "data": {
            "image/png": "[encoded data removed]",
            "text/plain": [
              "<Figure size 432x288 with 1 Axes>"
            ]
          },
          "metadata": {
            "tags": [],
            "needs_background": "light"
          }
        }
      ]
    },
    {
      "cell_type": "code",
      "metadata": {
        "id": "q6XPHB02sHal"
      },
      "source": [
        "# Menjalankan Hierarchical Clustering ke dataset\n",
        "hc = AgglomerativeClustering(n_clusters = 3, affinity = 'euclidean', linkage = 'ward')\n",
        "y_hc = hc.fit_predict(X)"
      ],
      "execution_count": 28,
      "outputs": []
    },
    {
      "cell_type": "code",
      "metadata": {
        "colab": {
          "base_uri": "https://localhost:8080/",
          "height": 281
        },
        "id": "0mZi3oMxslGo",
        "outputId": "2a0ed185-d7a0-441d-9e76-35b2dcaa7c08"
      },
      "source": [
        "plt.scatter(X[y_hc == 0, 0], X[y_hc == 0, 1], s = 100, c = 'red', label = 'Cluster 1')\n",
        "plt.scatter(X[y_hc == 1, 0], X[y_hc == 1, 1], s = 100, c = 'blue', label = 'Cluster 2')\n",
        "plt.scatter(X[y_hc == 2, 0], X[y_hc == 2, 1], s = 100, c = 'green', label = 'Cluster 3')\n",
        "\n",
        "plt.title('Clusters')\n",
        "plt.legend()\n",
        "plt.show()"
      ],
      "execution_count": 29,
      "outputs": [
        {
          "output_type": "display_data",
          "data": {
            "image/png": "[encoded data removed]",
            "text/plain": [
              "<Figure size 432x288 with 1 Axes>"
            ]
          },
          "metadata": {
            "tags": [],
            "needs_background": "light"
          }
        }
      ]
    },
    {
      "cell_type": "code",
      "metadata": {
        "colab": {
          "base_uri": "https://localhost:8080/",
          "height": 423
        },
        "id": "NceW9OVrXj7P",
        "outputId": "82c59b95-5342-40c8-8885-90be62f190c5"
      },
      "source": [
        "y_hc = pd.DataFrame(y_hc).rename(columns={0:'cluster'})\n",
        "# y_hc\n",
        "data_asli['cluster'] = y_hc\n",
        "data_asli"
      ],
      "execution_count": 30,
      "outputs": [
        {
          "output_type": "execute_result",
          "data": {
            "text/html": [
              "<div>\n",
              "<style scoped>\n",
              "    .dataframe tbody tr th:only-of-type {\n",
              "        vertical-align: middle;\n",
              "    }\n",
              "\n",
              "    .dataframe tbody tr th {\n",
              "        vertical-align: top;\n",
              "    }\n",
              "\n",
              "    .dataframe thead th {\n",
              "        text-align: right;\n",
              "    }\n",
              "</style>\n",
              "<table border=\"1\" class=\"dataframe\">\n",
              "  <thead>\n",
              "    <tr style=\"text-align: right;\">\n",
              "      <th></th>\n",
              "      <th>Diagnosis</th>\n",
              "      <th>ID</th>\n",
              "      <th>Imaginary Part Min</th>\n",
              "      <th>Avg</th>\n",
              "      <th>Real Part Min</th>\n",
              "      <th>Avg.1</th>\n",
              "      <th>Gender</th>\n",
              "      <th>Age</th>\n",
              "      <th>Smoking</th>\n",
              "      <th>cluster</th>\n",
              "    </tr>\n",
              "  </thead>\n",
              "  <tbody>\n",
              "    <tr>\n",
              "      <th>0</th>\n",
              "      <td>COPD</td>\n",
              "      <td>301-4</td>\n",
              "      <td>-320.6100</td>\n",
              "      <td>-300.563531</td>\n",
              "      <td>-495.2600</td>\n",
              "      <td>-464.171991</td>\n",
              "      <td>1</td>\n",
              "      <td>77</td>\n",
              "      <td>2</td>\n",
              "      <td>2</td>\n",
              "    </tr>\n",
              "    <tr>\n",
              "      <th>1</th>\n",
              "      <td>COPD</td>\n",
              "      <td>302-3</td>\n",
              "      <td>-325.3900</td>\n",
              "      <td>-314.750360</td>\n",
              "      <td>-473.7300</td>\n",
              "      <td>-469.263140</td>\n",
              "      <td>0</td>\n",
              "      <td>72</td>\n",
              "      <td>2</td>\n",
              "      <td>0</td>\n",
              "    </tr>\n",
              "    <tr>\n",
              "      <th>2</th>\n",
              "      <td>COPD</td>\n",
              "      <td>303-3</td>\n",
              "      <td>-323.0000</td>\n",
              "      <td>-317.436056</td>\n",
              "      <td>-476.1200</td>\n",
              "      <td>-471.897667</td>\n",
              "      <td>1</td>\n",
              "      <td>73</td>\n",
              "      <td>3</td>\n",
              "      <td>0</td>\n",
              "    </tr>\n",
              "    <tr>\n",
              "      <th>3</th>\n",
              "      <td>COPD</td>\n",
              "      <td>304-4</td>\n",
              "      <td>-327.7800</td>\n",
              "      <td>-317.399670</td>\n",
              "      <td>-473.7300</td>\n",
              "      <td>-468.856388</td>\n",
              "      <td>1</td>\n",
              "      <td>76</td>\n",
              "      <td>2</td>\n",
              "      <td>0</td>\n",
              "    </tr>\n",
              "    <tr>\n",
              "      <th>4</th>\n",
              "      <td>COPD</td>\n",
              "      <td>305-4</td>\n",
              "      <td>-325.3900</td>\n",
              "      <td>-316.155785</td>\n",
              "      <td>-478.5200</td>\n",
              "      <td>-472.869783</td>\n",
              "      <td>0</td>\n",
              "      <td>65</td>\n",
              "      <td>2</td>\n",
              "      <td>0</td>\n",
              "    </tr>\n",
              "    <tr>\n",
              "      <th>...</th>\n",
              "      <td>...</td>\n",
              "      <td>...</td>\n",
              "      <td>...</td>\n",
              "      <td>...</td>\n",
              "      <td>...</td>\n",
              "      <td>...</td>\n",
              "      <td>...</td>\n",
              "      <td>...</td>\n",
              "      <td>...</td>\n",
              "      <td>...</td>\n",
              "    </tr>\n",
              "    <tr>\n",
              "      <th>394</th>\n",
              "      <td>Infected</td>\n",
              "      <td>I176</td>\n",
              "      <td>-314.9418</td>\n",
              "      <td>-304.779677</td>\n",
              "      <td>-473.0022</td>\n",
              "      <td>-458.701666</td>\n",
              "      <td>0</td>\n",
              "      <td>49</td>\n",
              "      <td>2</td>\n",
              "      <td>2</td>\n",
              "    </tr>\n",
              "    <tr>\n",
              "      <th>395</th>\n",
              "      <td>Infected</td>\n",
              "      <td>I177</td>\n",
              "      <td>-314.9418</td>\n",
              "      <td>-304.779677</td>\n",
              "      <td>-473.0022</td>\n",
              "      <td>-458.701666</td>\n",
              "      <td>0</td>\n",
              "      <td>37</td>\n",
              "      <td>1</td>\n",
              "      <td>2</td>\n",
              "    </tr>\n",
              "    <tr>\n",
              "      <th>396</th>\n",
              "      <td>Infected</td>\n",
              "      <td>I178</td>\n",
              "      <td>-314.9418</td>\n",
              "      <td>-304.779677</td>\n",
              "      <td>-473.0022</td>\n",
              "      <td>-458.701666</td>\n",
              "      <td>0</td>\n",
              "      <td>29</td>\n",
              "      <td>1</td>\n",
              "      <td>2</td>\n",
              "    </tr>\n",
              "    <tr>\n",
              "      <th>397</th>\n",
              "      <td>Infected</td>\n",
              "      <td>I179</td>\n",
              "      <td>-314.9418</td>\n",
              "      <td>-304.779677</td>\n",
              "      <td>-473.0022</td>\n",
              "      <td>-458.701666</td>\n",
              "      <td>1</td>\n",
              "      <td>51</td>\n",
              "      <td>1</td>\n",
              "      <td>2</td>\n",
              "    </tr>\n",
              "    <tr>\n",
              "      <th>398</th>\n",
              "      <td>Infected</td>\n",
              "      <td>I180</td>\n",
              "      <td>-314.9418</td>\n",
              "      <td>-304.779677</td>\n",
              "      <td>-473.0022</td>\n",
              "      <td>-458.701666</td>\n",
              "      <td>0</td>\n",
              "      <td>40</td>\n",
              "      <td>1</td>\n",
              "      <td>2</td>\n",
              "    </tr>\n",
              "  </tbody>\n",
              "</table>\n",
              "<p>399 rows × 10 columns</p>\n",
              "</div>"
            ],
            "text/plain": [
              "    Diagnosis     ID  Imaginary Part Min  ...  Age  Smoking  cluster\n",
              "0        COPD  301-4           -320.6100  ...   77        2        2\n",
              "1        COPD  302-3           -325.3900  ...   72        2        0\n",
              "2        COPD  303-3           -323.0000  ...   73        3        0\n",
              "3        COPD  304-4           -327.7800  ...   76        2        0\n",
              "4        COPD  305-4           -325.3900  ...   65        2        0\n",
              "..        ...    ...                 ...  ...  ...      ...      ...\n",
              "394  Infected   I176           -314.9418  ...   49        2        2\n",
              "395  Infected   I177           -314.9418  ...   37        1        2\n",
              "396  Infected   I178           -314.9418  ...   29        1        2\n",
              "397  Infected   I179           -314.9418  ...   51        1        2\n",
              "398  Infected   I180           -314.9418  ...   40        1        2\n",
              "\n",
              "[399 rows x 10 columns]"
            ]
          },
          "metadata": {
            "tags": []
          },
          "execution_count": 30
        }
      ]
    }
  ]
}